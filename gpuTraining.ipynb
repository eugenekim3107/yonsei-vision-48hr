{
 "cells": [
  {
   "cell_type": "code",
   "execution_count": 75,
   "id": "4d80f2f8",
   "metadata": {},
   "outputs": [],
   "source": [
    "import torch\n",
    "from torch.utils.data import Dataset\n",
    "from torch.utils.data import DataLoader\n",
    "import cv2\n",
    "import os\n",
    "import pandas as pd\n",
    "import torchvision.transforms as transforms\n",
    "import matplotlib.pyplot as plt\n",
    "\n",
    "class cifarDataset(Dataset):\n",
    "    def __init__(self, csv, dir_name, transform=None):\n",
    "        self.annotations = pd.read_csv(os.path.join(dir_name, csv))\n",
    "        self.dir_name = dir_name\n",
    "        self.transform = transform\n",
    "        self.num_to_word = dict(enumerate((np.sort(self.annotations.iloc[:, 1].unique()))))\n",
    "        self.word_to_num = {value: key for (key, value) in self.num_to_word.items()}\n",
    "\n",
    "    def __len__(self):\n",
    "        return len(self.annotations)\n",
    "\n",
    "    def __getitem__(self, index):\n",
    "        image_path = self.annotations.iloc[index, 0]\n",
    "        image = cv2.imread(os.path.join(self.dir_name, image_path))\n",
    "        image = cv2.resize(image, (32,32))\n",
    "        label = torch.tensor(self.word_to_num[self.annotations.iloc[index, 1]], dtype=torch.long)\n",
    "        if self.transform:\n",
    "            image = self.transform(image)\n",
    "        # return image_path when creating weighted csv\n",
    "        return image, label# ,image_path\n"
   ]
  },
  {
   "cell_type": "code",
   "execution_count": 23,
   "id": "7a075ffb",
   "metadata": {},
   "outputs": [],
   "source": [
    "import torch\n",
    "import torch.optim as optim\n",
    "import torchvision.transforms.functional as FT\n",
    "from tqdm import tqdm\n",
    "from torch.utils.data import DataLoader\n",
    "from model import ResNet18\n",
    "import os\n",
    "#from dataset import cifarDataset\n",
    "import torch.nn as nn\n",
    "import torchvision.transforms as transforms\n",
    "import matplotlib.pyplot as plt\n",
    "import pandas as pd\n",
    "import numpy as np\n",
    "\n",
    "# Hyperparameters\n",
    "lr = 2e-5\n",
    "batch_size = 1000\n",
    "weight_decay = 1e-4\n",
    "epochs = 30\n",
    "transform = transforms.ToTensor()\n",
    "train_accuracy = []\n",
    "test_accuracy = []\n",
    "device = torch.device(\"cuda\" if torch.cuda.is_available() else \"cpu\")\n",
    "\n",
    "\n",
    "def train_fn(train_loader, model, optimizer, loss_fn):\n",
    "    model.train()\n",
    "    loop = tqdm(train_loader, leave=True)\n",
    "\n",
    "    correct = 0\n",
    "    total = 0\n",
    "\n",
    "    for batch_idx, (x, y) in enumerate(loop):\n",
    "        x,y = x.to(device), y.to(device)\n",
    "        out = model(x)\n",
    "        loss = loss_fn(out, y)\n",
    "        optimizer.zero_grad()\n",
    "        loss.backward()\n",
    "        optimizer.step()\n",
    "\n",
    "        correct += int(sum(out.argmax(axis=1) == y))\n",
    "        total += y.size(0)\n",
    "\n",
    "        # Update the progress bar\n",
    "        loop.set_postfix(loss=loss.item())\n",
    "\n",
    "    accu = 100. * (correct / total)\n",
    "    train_accuracy.append(accu)\n",
    "\n",
    "\n",
    "def test_fn(test_loader, model):\n",
    "    model.eval()\n",
    "    loop = tqdm(test_loader, leave=True)\n",
    "\n",
    "    correct = 0\n",
    "    total = 0\n",
    "\n",
    "    with torch.no_grad():\n",
    "        for batch_idx, (x, y) in enumerate(loop):\n",
    "            x,y = x.to(device), y.to(device)\n",
    "            out = model(x)\n",
    "            correct += int(sum(out.argmax(axis=1) == y))\n",
    "            total += y.size(0)\n",
    "\n",
    "    accu = 100. * (correct / total)\n",
    "    print(accu)\n",
    "    test_accuracy.append(accu)\n",
    "\n",
    "\n",
    "def main():\n",
    "    torch.cuda.empty_cache()\n",
    "    model = ResNet18()\n",
    "    model.to(device)\n",
    "    optimizer = optim.Adam(model.parameters(), lr=lr, weight_decay=weight_decay)\n",
    "    loss_fn = nn.CrossEntropyLoss()\n",
    "\n",
    "    dir_name = \"dataset\"\n",
    "    csv = \"data/cifar100_nl_clean.csv\"\n",
    "    csv_test = \"data/cifar100_nl_test.csv\"\n",
    "    dataset = cifarDataset(csv=csv, dir_name=dir_name, transform=transform)\n",
    "    test_set = cifarDataset(csv=csv_test, dir_name=dir_name,\n",
    "                            transform=transform)\n",
    "    train_set, val_set = torch.utils.data.random_split(dataset, [40000, 9998])\n",
    "    train_loader = DataLoader(dataset=train_set,\n",
    "                              batch_size=batch_size,\n",
    "                              shuffle=True,\n",
    "                              drop_last=False)\n",
    "    val_loader = DataLoader(dataset=val_set,\n",
    "                            batch_size=batch_size,\n",
    "                            shuffle=True,\n",
    "                            drop_last=False)\n",
    "    test_loader = DataLoader(dataset=test_set,\n",
    "                             batch_size=batch_size,\n",
    "                             shuffle=True)\n",
    "\n",
    "    for epoch in range(epochs):\n",
    "        train_fn(train_loader, model, optimizer, loss_fn)\n",
    "        test_fn(test_loader, model)\n",
    "        \n",
    "    torch.save(model.state_dict(), \"modelStates/baseModel.pth\")"
   ]
  },
  {
   "cell_type": "code",
   "execution_count": 24,
   "id": "2ec41423",
   "metadata": {
    "scrolled": false
   },
   "outputs": [
    {
     "name": "stderr",
     "output_type": "stream",
     "text": [
      "100%|██████████| 40/40 [00:32<00:00,  1.24it/s, loss=4.35]\n",
      "100%|██████████| 10/10 [00:11<00:00,  1.18s/it]\n"
     ]
    },
    {
     "name": "stdout",
     "output_type": "stream",
     "text": [
      "3.5207041408281654\n"
     ]
    },
    {
     "name": "stderr",
     "output_type": "stream",
     "text": [
      "100%|██████████| 40/40 [00:27<00:00,  1.48it/s, loss=4.13]\n",
      "100%|██████████| 10/10 [00:02<00:00,  3.39it/s]\n"
     ]
    },
    {
     "name": "stdout",
     "output_type": "stream",
     "text": [
      "12.03240648129626\n"
     ]
    },
    {
     "name": "stderr",
     "output_type": "stream",
     "text": [
      "100%|██████████| 40/40 [00:30<00:00,  1.33it/s, loss=3.94]\n",
      "100%|██████████| 10/10 [00:02<00:00,  3.40it/s]\n"
     ]
    },
    {
     "name": "stdout",
     "output_type": "stream",
     "text": [
      "15.303060612122424\n"
     ]
    },
    {
     "name": "stderr",
     "output_type": "stream",
     "text": [
      "100%|██████████| 40/40 [00:26<00:00,  1.49it/s, loss=3.79]\n",
      "100%|██████████| 10/10 [00:02<00:00,  3.65it/s]\n"
     ]
    },
    {
     "name": "stdout",
     "output_type": "stream",
     "text": [
      "17.663532706541307\n"
     ]
    },
    {
     "name": "stderr",
     "output_type": "stream",
     "text": [
      "100%|██████████| 40/40 [00:26<00:00,  1.52it/s, loss=3.63]\n",
      "100%|██████████| 10/10 [00:02<00:00,  3.49it/s]\n"
     ]
    },
    {
     "name": "stdout",
     "output_type": "stream",
     "text": [
      "19.93398679735947\n"
     ]
    },
    {
     "name": "stderr",
     "output_type": "stream",
     "text": [
      "100%|██████████| 40/40 [00:26<00:00,  1.51it/s, loss=3.49]\n",
      "100%|██████████| 10/10 [00:02<00:00,  3.47it/s]\n"
     ]
    },
    {
     "name": "stdout",
     "output_type": "stream",
     "text": [
      "21.404280856171233\n"
     ]
    },
    {
     "name": "stderr",
     "output_type": "stream",
     "text": [
      "100%|██████████| 40/40 [00:26<00:00,  1.51it/s, loss=3.46]\n",
      "100%|██████████| 10/10 [00:02<00:00,  3.46it/s]\n"
     ]
    },
    {
     "name": "stdout",
     "output_type": "stream",
     "text": [
      "23.084616923384676\n"
     ]
    },
    {
     "name": "stderr",
     "output_type": "stream",
     "text": [
      "100%|██████████| 40/40 [00:26<00:00,  1.50it/s, loss=3.33]\n",
      "100%|██████████| 10/10 [00:02<00:00,  3.39it/s]\n"
     ]
    },
    {
     "name": "stdout",
     "output_type": "stream",
     "text": [
      "23.49469893978796\n"
     ]
    },
    {
     "name": "stderr",
     "output_type": "stream",
     "text": [
      "100%|██████████| 40/40 [00:26<00:00,  1.49it/s, loss=3.27]\n",
      "100%|██████████| 10/10 [00:03<00:00,  3.31it/s]\n"
     ]
    },
    {
     "name": "stdout",
     "output_type": "stream",
     "text": [
      "25.365073014602917\n"
     ]
    },
    {
     "name": "stderr",
     "output_type": "stream",
     "text": [
      "100%|██████████| 40/40 [00:26<00:00,  1.50it/s, loss=3.11]\n",
      "100%|██████████| 10/10 [00:02<00:00,  3.46it/s]\n"
     ]
    },
    {
     "name": "stdout",
     "output_type": "stream",
     "text": [
      "25.75515103020604\n"
     ]
    },
    {
     "name": "stderr",
     "output_type": "stream",
     "text": [
      "100%|██████████| 40/40 [00:26<00:00,  1.51it/s, loss=2.9] \n",
      "100%|██████████| 10/10 [00:02<00:00,  3.46it/s]\n"
     ]
    },
    {
     "name": "stdout",
     "output_type": "stream",
     "text": [
      "25.45509101820364\n"
     ]
    },
    {
     "name": "stderr",
     "output_type": "stream",
     "text": [
      "100%|██████████| 40/40 [00:26<00:00,  1.51it/s, loss=2.76]\n",
      "100%|██████████| 10/10 [00:02<00:00,  3.47it/s]\n"
     ]
    },
    {
     "name": "stdout",
     "output_type": "stream",
     "text": [
      "25.95519103820764\n"
     ]
    },
    {
     "name": "stderr",
     "output_type": "stream",
     "text": [
      "100%|██████████| 40/40 [00:26<00:00,  1.50it/s, loss=2.63]\n",
      "100%|██████████| 10/10 [00:02<00:00,  3.40it/s]\n"
     ]
    },
    {
     "name": "stdout",
     "output_type": "stream",
     "text": [
      "25.55511102220444\n"
     ]
    },
    {
     "name": "stderr",
     "output_type": "stream",
     "text": [
      "100%|██████████| 40/40 [00:26<00:00,  1.50it/s, loss=2.43]\n",
      "100%|██████████| 10/10 [00:02<00:00,  3.46it/s]\n"
     ]
    },
    {
     "name": "stdout",
     "output_type": "stream",
     "text": [
      "26.34526905381076\n"
     ]
    },
    {
     "name": "stderr",
     "output_type": "stream",
     "text": [
      "100%|██████████| 40/40 [00:26<00:00,  1.50it/s, loss=2.22]\n",
      "100%|██████████| 10/10 [00:02<00:00,  3.49it/s]\n"
     ]
    },
    {
     "name": "stdout",
     "output_type": "stream",
     "text": [
      "25.40508101620324\n"
     ]
    },
    {
     "name": "stderr",
     "output_type": "stream",
     "text": [
      "100%|██████████| 40/40 [00:26<00:00,  1.49it/s, loss=2.08]\n",
      "100%|██████████| 10/10 [00:02<00:00,  3.52it/s]\n"
     ]
    },
    {
     "name": "stdout",
     "output_type": "stream",
     "text": [
      "24.684936987397478\n"
     ]
    },
    {
     "name": "stderr",
     "output_type": "stream",
     "text": [
      "100%|██████████| 40/40 [00:26<00:00,  1.51it/s, loss=1.91]\n",
      "100%|██████████| 10/10 [00:02<00:00,  3.34it/s]\n"
     ]
    },
    {
     "name": "stdout",
     "output_type": "stream",
     "text": [
      "24.2248449689938\n"
     ]
    },
    {
     "name": "stderr",
     "output_type": "stream",
     "text": [
      "100%|██████████| 40/40 [00:26<00:00,  1.51it/s, loss=1.71]\n",
      "100%|██████████| 10/10 [00:02<00:00,  3.54it/s]\n"
     ]
    },
    {
     "name": "stdout",
     "output_type": "stream",
     "text": [
      "24.094818963792758\n"
     ]
    },
    {
     "name": "stderr",
     "output_type": "stream",
     "text": [
      "100%|██████████| 40/40 [00:26<00:00,  1.50it/s, loss=1.48]\n",
      "100%|██████████| 10/10 [00:02<00:00,  3.49it/s]\n"
     ]
    },
    {
     "name": "stdout",
     "output_type": "stream",
     "text": [
      "22.874574914982997\n"
     ]
    },
    {
     "name": "stderr",
     "output_type": "stream",
     "text": [
      "100%|██████████| 40/40 [00:27<00:00,  1.47it/s, loss=1.36]\n",
      "100%|██████████| 10/10 [00:03<00:00,  3.29it/s]\n"
     ]
    },
    {
     "name": "stdout",
     "output_type": "stream",
     "text": [
      "22.434486897379475\n"
     ]
    },
    {
     "name": "stderr",
     "output_type": "stream",
     "text": [
      "100%|██████████| 40/40 [00:26<00:00,  1.50it/s, loss=1.15]\n",
      "100%|██████████| 10/10 [00:02<00:00,  3.52it/s]\n"
     ]
    },
    {
     "name": "stdout",
     "output_type": "stream",
     "text": [
      "22.304460892178433\n"
     ]
    },
    {
     "name": "stderr",
     "output_type": "stream",
     "text": [
      "100%|██████████| 40/40 [00:26<00:00,  1.48it/s, loss=1.05]\n",
      "100%|██████████| 10/10 [00:02<00:00,  3.47it/s]\n"
     ]
    },
    {
     "name": "stdout",
     "output_type": "stream",
     "text": [
      "21.984396879375875\n"
     ]
    },
    {
     "name": "stderr",
     "output_type": "stream",
     "text": [
      "100%|██████████| 40/40 [00:26<00:00,  1.51it/s, loss=0.931]\n",
      "100%|██████████| 10/10 [00:02<00:00,  3.48it/s]\n"
     ]
    },
    {
     "name": "stdout",
     "output_type": "stream",
     "text": [
      "21.384276855371073\n"
     ]
    },
    {
     "name": "stderr",
     "output_type": "stream",
     "text": [
      "100%|██████████| 40/40 [00:26<00:00,  1.51it/s, loss=0.804]\n",
      "100%|██████████| 10/10 [00:02<00:00,  3.56it/s]\n"
     ]
    },
    {
     "name": "stdout",
     "output_type": "stream",
     "text": [
      "20.874174834966993\n"
     ]
    },
    {
     "name": "stderr",
     "output_type": "stream",
     "text": [
      "100%|██████████| 40/40 [00:27<00:00,  1.48it/s, loss=0.653]\n",
      "100%|██████████| 10/10 [00:02<00:00,  3.45it/s]\n"
     ]
    },
    {
     "name": "stdout",
     "output_type": "stream",
     "text": [
      "20.654130826165233\n"
     ]
    },
    {
     "name": "stderr",
     "output_type": "stream",
     "text": [
      "100%|██████████| 40/40 [00:26<00:00,  1.49it/s, loss=0.579]\n",
      "100%|██████████| 10/10 [00:02<00:00,  3.41it/s]\n"
     ]
    },
    {
     "name": "stdout",
     "output_type": "stream",
     "text": [
      "20.534106821364272\n"
     ]
    },
    {
     "name": "stderr",
     "output_type": "stream",
     "text": [
      "100%|██████████| 40/40 [00:26<00:00,  1.50it/s, loss=0.497]\n",
      "100%|██████████| 10/10 [00:03<00:00,  3.32it/s]\n"
     ]
    },
    {
     "name": "stdout",
     "output_type": "stream",
     "text": [
      "19.78395679135827\n"
     ]
    },
    {
     "name": "stderr",
     "output_type": "stream",
     "text": [
      "100%|██████████| 40/40 [00:26<00:00,  1.50it/s, loss=0.513]\n",
      "100%|██████████| 10/10 [00:02<00:00,  3.62it/s]\n"
     ]
    },
    {
     "name": "stdout",
     "output_type": "stream",
     "text": [
      "19.653930786157233\n"
     ]
    },
    {
     "name": "stderr",
     "output_type": "stream",
     "text": [
      "100%|██████████| 40/40 [00:26<00:00,  1.52it/s, loss=0.34] \n",
      "100%|██████████| 10/10 [00:02<00:00,  3.34it/s]\n"
     ]
    },
    {
     "name": "stdout",
     "output_type": "stream",
     "text": [
      "19.733946789357873\n"
     ]
    },
    {
     "name": "stderr",
     "output_type": "stream",
     "text": [
      "100%|██████████| 40/40 [00:26<00:00,  1.49it/s, loss=0.283]\n",
      "100%|██████████| 10/10 [00:02<00:00,  3.52it/s]"
     ]
    },
    {
     "name": "stdout",
     "output_type": "stream",
     "text": [
      "19.82396479295859\n"
     ]
    },
    {
     "name": "stderr",
     "output_type": "stream",
     "text": [
      "\n"
     ]
    }
   ],
   "source": [
    "main()"
   ]
  },
  {
   "cell_type": "code",
   "execution_count": 27,
   "id": "770c0855",
   "metadata": {
    "scrolled": false
   },
   "outputs": [
    {
     "data": {
      "image/png": "[encoded data removed]",
      "text/plain": [
       "<Figure size 432x288 with 1 Axes>"
      ]
     },
     "metadata": {
      "needs_background": "light"
     },
     "output_type": "display_data"
    }
   ],
   "source": [
    "plt.plot(train_accuracy, '-o')\n",
    "plt.plot(test_accuracy, '-o')\n",
    "plt.legend(['Train','Test'])\n",
    "plt.xlabel('epoch')\n",
    "plt.ylabel('accuracy')\n",
    "plt.title('BaseModel: Train vs Test Accuracy')\n",
    "plt.show()"
   ]
  },
  {
   "cell_type": "code",
   "execution_count": 28,
   "id": "1c5c45db",
   "metadata": {},
   "outputs": [
    {
     "data": {
      "text/html": [
       "<div>\n",
       "<style scoped>\n",
       "    .dataframe tbody tr th:only-of-type {\n",
       "        vertical-align: middle;\n",
       "    }\n",
       "\n",
       "    .dataframe tbody tr th {\n",
       "        vertical-align: top;\n",
       "    }\n",
       "\n",
       "    .dataframe thead th {\n",
       "        text-align: right;\n",
       "    }\n",
       "</style>\n",
       "<table border=\"1\" class=\"dataframe\">\n",
       "  <thead>\n",
       "    <tr style=\"text-align: right;\">\n",
       "      <th></th>\n",
       "      <th>train_accuracy</th>\n",
       "      <th>test_accuracy</th>\n",
       "    </tr>\n",
       "  </thead>\n",
       "  <tbody>\n",
       "    <tr>\n",
       "      <th>0</th>\n",
       "      <td>4.0600</td>\n",
       "      <td>3.520704</td>\n",
       "    </tr>\n",
       "    <tr>\n",
       "      <th>1</th>\n",
       "      <td>9.8900</td>\n",
       "      <td>12.032406</td>\n",
       "    </tr>\n",
       "    <tr>\n",
       "      <th>2</th>\n",
       "      <td>13.5575</td>\n",
       "      <td>15.303061</td>\n",
       "    </tr>\n",
       "    <tr>\n",
       "      <th>3</th>\n",
       "      <td>16.6225</td>\n",
       "      <td>17.663533</td>\n",
       "    </tr>\n",
       "    <tr>\n",
       "      <th>4</th>\n",
       "      <td>19.5625</td>\n",
       "      <td>19.933987</td>\n",
       "    </tr>\n",
       "    <tr>\n",
       "      <th>5</th>\n",
       "      <td>22.1275</td>\n",
       "      <td>21.404281</td>\n",
       "    </tr>\n",
       "    <tr>\n",
       "      <th>6</th>\n",
       "      <td>24.8200</td>\n",
       "      <td>23.084617</td>\n",
       "    </tr>\n",
       "    <tr>\n",
       "      <th>7</th>\n",
       "      <td>27.7500</td>\n",
       "      <td>23.494699</td>\n",
       "    </tr>\n",
       "    <tr>\n",
       "      <th>8</th>\n",
       "      <td>30.6625</td>\n",
       "      <td>25.365073</td>\n",
       "    </tr>\n",
       "    <tr>\n",
       "      <th>9</th>\n",
       "      <td>34.0775</td>\n",
       "      <td>25.755151</td>\n",
       "    </tr>\n",
       "    <tr>\n",
       "      <th>10</th>\n",
       "      <td>37.8525</td>\n",
       "      <td>25.455091</td>\n",
       "    </tr>\n",
       "    <tr>\n",
       "      <th>11</th>\n",
       "      <td>41.9775</td>\n",
       "      <td>25.955191</td>\n",
       "    </tr>\n",
       "    <tr>\n",
       "      <th>12</th>\n",
       "      <td>46.8925</td>\n",
       "      <td>25.555111</td>\n",
       "    </tr>\n",
       "    <tr>\n",
       "      <th>13</th>\n",
       "      <td>51.6100</td>\n",
       "      <td>26.345269</td>\n",
       "    </tr>\n",
       "    <tr>\n",
       "      <th>14</th>\n",
       "      <td>57.1900</td>\n",
       "      <td>25.405081</td>\n",
       "    </tr>\n",
       "    <tr>\n",
       "      <th>15</th>\n",
       "      <td>62.6275</td>\n",
       "      <td>24.684937</td>\n",
       "    </tr>\n",
       "    <tr>\n",
       "      <th>16</th>\n",
       "      <td>68.5500</td>\n",
       "      <td>24.224845</td>\n",
       "    </tr>\n",
       "    <tr>\n",
       "      <th>17</th>\n",
       "      <td>73.4300</td>\n",
       "      <td>24.094819</td>\n",
       "    </tr>\n",
       "    <tr>\n",
       "      <th>18</th>\n",
       "      <td>78.6275</td>\n",
       "      <td>22.874575</td>\n",
       "    </tr>\n",
       "    <tr>\n",
       "      <th>19</th>\n",
       "      <td>83.1050</td>\n",
       "      <td>22.434487</td>\n",
       "    </tr>\n",
       "    <tr>\n",
       "      <th>20</th>\n",
       "      <td>86.8800</td>\n",
       "      <td>22.304461</td>\n",
       "    </tr>\n",
       "    <tr>\n",
       "      <th>21</th>\n",
       "      <td>89.7125</td>\n",
       "      <td>21.984397</td>\n",
       "    </tr>\n",
       "    <tr>\n",
       "      <th>22</th>\n",
       "      <td>92.6150</td>\n",
       "      <td>21.384277</td>\n",
       "    </tr>\n",
       "    <tr>\n",
       "      <th>23</th>\n",
       "      <td>94.7350</td>\n",
       "      <td>20.874175</td>\n",
       "    </tr>\n",
       "    <tr>\n",
       "      <th>24</th>\n",
       "      <td>96.5350</td>\n",
       "      <td>20.654131</td>\n",
       "    </tr>\n",
       "    <tr>\n",
       "      <th>25</th>\n",
       "      <td>97.6625</td>\n",
       "      <td>20.534107</td>\n",
       "    </tr>\n",
       "    <tr>\n",
       "      <th>26</th>\n",
       "      <td>98.4650</td>\n",
       "      <td>19.783957</td>\n",
       "    </tr>\n",
       "    <tr>\n",
       "      <th>27</th>\n",
       "      <td>99.1125</td>\n",
       "      <td>19.653931</td>\n",
       "    </tr>\n",
       "    <tr>\n",
       "      <th>28</th>\n",
       "      <td>99.4600</td>\n",
       "      <td>19.733947</td>\n",
       "    </tr>\n",
       "    <tr>\n",
       "      <th>29</th>\n",
       "      <td>99.6975</td>\n",
       "      <td>19.823965</td>\n",
       "    </tr>\n",
       "  </tbody>\n",
       "</table>\n",
       "</div>"
      ],
      "text/plain": [
       "    train_accuracy  test_accuracy\n",
       "0           4.0600       3.520704\n",
       "1           9.8900      12.032406\n",
       "2          13.5575      15.303061\n",
       "3          16.6225      17.663533\n",
       "4          19.5625      19.933987\n",
       "5          22.1275      21.404281\n",
       "6          24.8200      23.084617\n",
       "7          27.7500      23.494699\n",
       "8          30.6625      25.365073\n",
       "9          34.0775      25.755151\n",
       "10         37.8525      25.455091\n",
       "11         41.9775      25.955191\n",
       "12         46.8925      25.555111\n",
       "13         51.6100      26.345269\n",
       "14         57.1900      25.405081\n",
       "15         62.6275      24.684937\n",
       "16         68.5500      24.224845\n",
       "17         73.4300      24.094819\n",
       "18         78.6275      22.874575\n",
       "19         83.1050      22.434487\n",
       "20         86.8800      22.304461\n",
       "21         89.7125      21.984397\n",
       "22         92.6150      21.384277\n",
       "23         94.7350      20.874175\n",
       "24         96.5350      20.654131\n",
       "25         97.6625      20.534107\n",
       "26         98.4650      19.783957\n",
       "27         99.1125      19.653931\n",
       "28         99.4600      19.733947\n",
       "29         99.6975      19.823965"
      ]
     },
     "execution_count": 28,
     "metadata": {},
     "output_type": "execute_result"
    }
   ],
   "source": [
    "baseModelScores = pd.DataFrame({\"train_accuracy\":train_accuracy, \"test_accuracy\":test_accuracy})\n",
    "baseModelScores"
   ]
  },
  {
   "cell_type": "code",
   "execution_count": 29,
   "id": "275ef65c",
   "metadata": {},
   "outputs": [
    {
     "data": {
      "text/html": [
       "<div>\n",
       "<style scoped>\n",
       "    .dataframe tbody tr th:only-of-type {\n",
       "        vertical-align: middle;\n",
       "    }\n",
       "\n",
       "    .dataframe tbody tr th {\n",
       "        vertical-align: top;\n",
       "    }\n",
       "\n",
       "    .dataframe thead th {\n",
       "        text-align: right;\n",
       "    }\n",
       "</style>\n",
       "<table border=\"1\" class=\"dataframe\">\n",
       "  <thead>\n",
       "    <tr style=\"text-align: right;\">\n",
       "      <th></th>\n",
       "      <th>train_accuracy</th>\n",
       "      <th>test_accuracy</th>\n",
       "    </tr>\n",
       "  </thead>\n",
       "  <tbody>\n",
       "    <tr>\n",
       "      <th>0</th>\n",
       "      <td>4.0600</td>\n",
       "      <td>3.520704</td>\n",
       "    </tr>\n",
       "    <tr>\n",
       "      <th>2</th>\n",
       "      <td>13.5575</td>\n",
       "      <td>15.303061</td>\n",
       "    </tr>\n",
       "    <tr>\n",
       "      <th>4</th>\n",
       "      <td>19.5625</td>\n",
       "      <td>19.933987</td>\n",
       "    </tr>\n",
       "    <tr>\n",
       "      <th>6</th>\n",
       "      <td>24.8200</td>\n",
       "      <td>23.084617</td>\n",
       "    </tr>\n",
       "    <tr>\n",
       "      <th>8</th>\n",
       "      <td>30.6625</td>\n",
       "      <td>25.365073</td>\n",
       "    </tr>\n",
       "    <tr>\n",
       "      <th>10</th>\n",
       "      <td>37.8525</td>\n",
       "      <td>25.455091</td>\n",
       "    </tr>\n",
       "    <tr>\n",
       "      <th>12</th>\n",
       "      <td>46.8925</td>\n",
       "      <td>25.555111</td>\n",
       "    </tr>\n",
       "    <tr>\n",
       "      <th>14</th>\n",
       "      <td>57.1900</td>\n",
       "      <td>25.405081</td>\n",
       "    </tr>\n",
       "    <tr>\n",
       "      <th>16</th>\n",
       "      <td>68.5500</td>\n",
       "      <td>24.224845</td>\n",
       "    </tr>\n",
       "    <tr>\n",
       "      <th>18</th>\n",
       "      <td>78.6275</td>\n",
       "      <td>22.874575</td>\n",
       "    </tr>\n",
       "    <tr>\n",
       "      <th>20</th>\n",
       "      <td>86.8800</td>\n",
       "      <td>22.304461</td>\n",
       "    </tr>\n",
       "    <tr>\n",
       "      <th>22</th>\n",
       "      <td>92.6150</td>\n",
       "      <td>21.384277</td>\n",
       "    </tr>\n",
       "    <tr>\n",
       "      <th>24</th>\n",
       "      <td>96.5350</td>\n",
       "      <td>20.654131</td>\n",
       "    </tr>\n",
       "    <tr>\n",
       "      <th>26</th>\n",
       "      <td>98.4650</td>\n",
       "      <td>19.783957</td>\n",
       "    </tr>\n",
       "    <tr>\n",
       "      <th>28</th>\n",
       "      <td>99.4600</td>\n",
       "      <td>19.733947</td>\n",
       "    </tr>\n",
       "  </tbody>\n",
       "</table>\n",
       "</div>"
      ],
      "text/plain": [
       "    train_accuracy  test_accuracy\n",
       "0           4.0600       3.520704\n",
       "2          13.5575      15.303061\n",
       "4          19.5625      19.933987\n",
       "6          24.8200      23.084617\n",
       "8          30.6625      25.365073\n",
       "10         37.8525      25.455091\n",
       "12         46.8925      25.555111\n",
       "14         57.1900      25.405081\n",
       "16         68.5500      24.224845\n",
       "18         78.6275      22.874575\n",
       "20         86.8800      22.304461\n",
       "22         92.6150      21.384277\n",
       "24         96.5350      20.654131\n",
       "26         98.4650      19.783957\n",
       "28         99.4600      19.733947"
      ]
     },
     "execution_count": 29,
     "metadata": {},
     "output_type": "execute_result"
    }
   ],
   "source": [
    "baseModelScores.iloc[::2,:]"
   ]
  },
  {
   "cell_type": "code",
   "execution_count": 32,
   "id": "0e33799a",
   "metadata": {},
   "outputs": [
    {
     "data": {
      "text/plain": [
       "21.377275455091016"
      ]
     },
     "execution_count": 32,
     "metadata": {},
     "output_type": "execute_result"
    }
   ],
   "source": [
    "baseModelScores[\"test_accuracy\"].mean()"
   ]
  },
  {
   "cell_type": "code",
   "execution_count": 47,
   "id": "3b47950a",
   "metadata": {
    "scrolled": true
   },
   "outputs": [
    {
     "name": "stdout",
     "output_type": "stream",
     "text": [
      "Files already downloaded and verified\n"
     ]
    },
    {
     "name": "stderr",
     "output_type": "stream",
     "text": [
      "100%|██████████| 5/5 [00:02<00:00,  1.94it/s, loss=4.71]\n",
      "100%|██████████| 5/5 [00:02<00:00,  2.06it/s, loss=4.48]\n",
      "100%|██████████| 5/5 [00:02<00:00,  2.06it/s, loss=4.34]\n",
      "100%|██████████| 5/5 [00:02<00:00,  2.06it/s, loss=4.26]\n",
      "100%|██████████| 5/5 [00:02<00:00,  1.97it/s, loss=4.19]\n",
      "100%|██████████| 5/5 [00:02<00:00,  2.05it/s, loss=4.03]\n",
      "100%|██████████| 5/5 [00:02<00:00,  2.05it/s, loss=3.96]\n",
      "100%|██████████| 5/5 [00:02<00:00,  2.05it/s, loss=3.82]\n",
      "100%|██████████| 5/5 [00:02<00:00,  2.04it/s, loss=3.75]\n",
      "100%|██████████| 5/5 [00:02<00:00,  2.04it/s, loss=3.65]\n",
      "100%|██████████| 5/5 [00:02<00:00,  2.04it/s, loss=3.56]\n",
      "100%|██████████| 5/5 [00:02<00:00,  2.04it/s, loss=3.49]\n",
      "100%|██████████| 5/5 [00:02<00:00,  1.99it/s, loss=3.37]\n",
      "100%|██████████| 5/5 [00:02<00:00,  2.03it/s, loss=3.34]\n",
      "100%|██████████| 5/5 [00:02<00:00,  2.04it/s, loss=3.16]\n",
      "100%|██████████| 5/5 [00:02<00:00,  2.03it/s, loss=3.08]\n",
      "100%|██████████| 5/5 [00:02<00:00,  2.05it/s, loss=3.01]\n",
      "100%|██████████| 5/5 [00:02<00:00,  2.04it/s, loss=2.92]\n",
      "100%|██████████| 5/5 [00:02<00:00,  2.03it/s, loss=2.82]\n",
      "100%|██████████| 5/5 [00:02<00:00,  1.99it/s, loss=2.69]\n",
      "100%|██████████| 5/5 [00:02<00:00,  2.05it/s, loss=2.63]\n",
      "100%|██████████| 5/5 [00:02<00:00,  2.05it/s, loss=2.47]\n",
      "100%|██████████| 5/5 [00:02<00:00,  2.05it/s, loss=2.38]\n",
      "100%|██████████| 5/5 [00:02<00:00,  2.05it/s, loss=2.28]\n",
      "100%|██████████| 5/5 [00:02<00:00,  2.05it/s, loss=2.17]\n",
      "100%|██████████| 5/5 [00:02<00:00,  2.05it/s, loss=2.11]\n",
      "100%|██████████| 5/5 [00:02<00:00,  2.05it/s, loss=1.9] \n",
      "100%|██████████| 5/5 [00:02<00:00,  1.99it/s, loss=1.8] \n",
      "100%|██████████| 5/5 [00:02<00:00,  2.05it/s, loss=1.71]\n",
      "100%|██████████| 5/5 [00:02<00:00,  2.05it/s, loss=1.57]\n",
      "100%|██████████| 5/5 [00:02<00:00,  2.05it/s, loss=1.5] \n",
      "100%|██████████| 5/5 [00:02<00:00,  2.03it/s, loss=1.37]\n",
      "100%|██████████| 5/5 [00:02<00:00,  2.05it/s, loss=1.24]\n",
      "100%|██████████| 5/5 [00:02<00:00,  2.05it/s, loss=1.13]\n",
      "100%|██████████| 5/5 [00:02<00:00,  2.00it/s, loss=1.05]\n",
      "100%|██████████| 5/5 [00:02<00:00,  2.04it/s, loss=0.964]\n",
      "100%|██████████| 5/5 [00:02<00:00,  2.04it/s, loss=0.865]\n",
      "100%|██████████| 5/5 [00:02<00:00,  2.04it/s, loss=0.792]\n",
      "100%|██████████| 5/5 [00:02<00:00,  2.04it/s, loss=0.701]\n",
      "100%|██████████| 5/5 [00:02<00:00,  2.05it/s, loss=0.652]\n",
      "100%|██████████| 5/5 [00:02<00:00,  2.05it/s, loss=0.622]\n",
      "100%|██████████| 5/5 [00:02<00:00,  2.04it/s, loss=0.53] \n",
      "100%|██████████| 5/5 [00:02<00:00,  2.00it/s, loss=0.484]\n",
      "100%|██████████| 5/5 [00:02<00:00,  2.04it/s, loss=0.442]\n",
      "100%|██████████| 5/5 [00:02<00:00,  2.04it/s, loss=0.413]\n",
      "100%|██████████| 5/5 [00:02<00:00,  2.04it/s, loss=0.358]\n",
      "100%|██████████| 5/5 [00:02<00:00,  2.05it/s, loss=0.371]\n",
      "100%|██████████| 5/5 [00:02<00:00,  2.04it/s, loss=0.319]\n",
      "100%|██████████| 5/5 [00:02<00:00,  2.04it/s, loss=0.279]\n",
      "100%|██████████| 5/5 [00:02<00:00,  2.04it/s, loss=0.272]\n"
     ]
    }
   ],
   "source": [
    "import torch\n",
    "import torch.optim as optim\n",
    "import torchvision.transforms.functional as FT\n",
    "from torchvision.datasets import CIFAR100\n",
    "from tqdm import tqdm\n",
    "from torch.utils.data import DataLoader\n",
    "from model import ResNet18\n",
    "import os\n",
    "import torch.nn as nn\n",
    "import torchvision.transforms as transforms\n",
    "import matplotlib.pyplot as plt\n",
    "import pandas as pd\n",
    "\n",
    "# Hyperparameters\n",
    "lr = 2e-5\n",
    "batch_size = 1000\n",
    "weight_decay = 1e-4\n",
    "epochs = 50\n",
    "transform = transforms.ToTensor()\n",
    "train_accuracy = []\n",
    "test_accuracy = []\n",
    "device = torch.device(\"cuda\" if torch.cuda.is_available() else \"cpu\")\n",
    "\n",
    "def train_fn(train_loader, model, optimizer, loss_fn):\n",
    "    model.train()\n",
    "    loop = tqdm(train_loader, leave=True)\n",
    "\n",
    "    correct = 0\n",
    "    total = 0\n",
    "\n",
    "    for batch_idx, (x, y) in enumerate(loop):\n",
    "        x,y = x.to(device), y.to(device)\n",
    "        out = model(x)\n",
    "        loss = loss_fn(out, y)\n",
    "        optimizer.zero_grad()\n",
    "        loss.backward()\n",
    "        optimizer.step()\n",
    "\n",
    "        correct += int(sum(out.argmax(axis=1) == y))\n",
    "        total += y.size(0)\n",
    "\n",
    "        # Update the progress bar\n",
    "        loop.set_postfix(loss=loss.item())\n",
    "\n",
    "    accu = 100. * (correct / total)\n",
    "    train_accuracy.append(accu)\n",
    "\n",
    "torch.cuda.empty_cache()\n",
    "model = ResNet18()\n",
    "model.to(device)\n",
    "optimizer = optim.Adam(model.parameters(), lr=lr, weight_decay=weight_decay)\n",
    "loss_fn = nn.CrossEntropyLoss()\n",
    "\n",
    "dataset = CIFAR100(download=True,root=\"./trueCIFAR100\",transform=transform)\n",
    "train_set,_ = torch.utils.data.random_split(dataset, [5000, 45000])\n",
    "train_loader = DataLoader(dataset=train_set,\n",
    "                          batch_size=batch_size,\n",
    "                          shuffle=True,\n",
    "                          drop_last=False)\n",
    "\n",
    "for epoch in range(epochs):\n",
    "    train_fn(train_loader, model, optimizer, loss_fn)\n",
    "torch.save(model.state_dict(), \"modelStates/supervisorModel.pth\")"
   ]
  },
  {
   "cell_type": "code",
   "execution_count": 49,
   "id": "428f9112",
   "metadata": {
    "scrolled": true
   },
   "outputs": [
    {
     "data": {
      "image/png": "[encoded data removed]",
      "text/plain": [
       "<Figure size 432x288 with 1 Axes>"
      ]
     },
     "metadata": {
      "needs_background": "light"
     },
     "output_type": "display_data"
    }
   ],
   "source": [
    "plt.plot(train_accuracy, '-o')\n",
    "plt.xlabel('epoch')\n",
    "plt.ylabel('accuracy')\n",
    "plt.title('SupervisorModel: Train Accuracy')\n",
    "plt.show()"
   ]
  },
  {
   "cell_type": "code",
   "execution_count": 50,
   "id": "a2f34f39",
   "metadata": {
    "scrolled": true
   },
   "outputs": [
    {
     "data": {
      "text/html": [
       "<div>\n",
       "<style scoped>\n",
       "    .dataframe tbody tr th:only-of-type {\n",
       "        vertical-align: middle;\n",
       "    }\n",
       "\n",
       "    .dataframe tbody tr th {\n",
       "        vertical-align: top;\n",
       "    }\n",
       "\n",
       "    .dataframe thead th {\n",
       "        text-align: right;\n",
       "    }\n",
       "</style>\n",
       "<table border=\"1\" class=\"dataframe\">\n",
       "  <thead>\n",
       "    <tr style=\"text-align: right;\">\n",
       "      <th></th>\n",
       "      <th>train_accuracy</th>\n",
       "    </tr>\n",
       "  </thead>\n",
       "  <tbody>\n",
       "    <tr>\n",
       "      <th>0</th>\n",
       "      <td>0.76</td>\n",
       "    </tr>\n",
       "    <tr>\n",
       "      <th>1</th>\n",
       "      <td>1.72</td>\n",
       "    </tr>\n",
       "    <tr>\n",
       "      <th>2</th>\n",
       "      <td>4.16</td>\n",
       "    </tr>\n",
       "    <tr>\n",
       "      <th>3</th>\n",
       "      <td>6.50</td>\n",
       "    </tr>\n",
       "    <tr>\n",
       "      <th>4</th>\n",
       "      <td>9.66</td>\n",
       "    </tr>\n",
       "    <tr>\n",
       "      <th>5</th>\n",
       "      <td>13.22</td>\n",
       "    </tr>\n",
       "    <tr>\n",
       "      <th>6</th>\n",
       "      <td>16.46</td>\n",
       "    </tr>\n",
       "    <tr>\n",
       "      <th>7</th>\n",
       "      <td>20.98</td>\n",
       "    </tr>\n",
       "    <tr>\n",
       "      <th>8</th>\n",
       "      <td>25.02</td>\n",
       "    </tr>\n",
       "    <tr>\n",
       "      <th>9</th>\n",
       "      <td>29.24</td>\n",
       "    </tr>\n",
       "    <tr>\n",
       "      <th>10</th>\n",
       "      <td>33.70</td>\n",
       "    </tr>\n",
       "    <tr>\n",
       "      <th>11</th>\n",
       "      <td>39.48</td>\n",
       "    </tr>\n",
       "    <tr>\n",
       "      <th>12</th>\n",
       "      <td>44.46</td>\n",
       "    </tr>\n",
       "    <tr>\n",
       "      <th>13</th>\n",
       "      <td>48.60</td>\n",
       "    </tr>\n",
       "    <tr>\n",
       "      <th>14</th>\n",
       "      <td>51.84</td>\n",
       "    </tr>\n",
       "    <tr>\n",
       "      <th>15</th>\n",
       "      <td>57.08</td>\n",
       "    </tr>\n",
       "    <tr>\n",
       "      <th>16</th>\n",
       "      <td>61.32</td>\n",
       "    </tr>\n",
       "    <tr>\n",
       "      <th>17</th>\n",
       "      <td>65.20</td>\n",
       "    </tr>\n",
       "    <tr>\n",
       "      <th>18</th>\n",
       "      <td>69.46</td>\n",
       "    </tr>\n",
       "    <tr>\n",
       "      <th>19</th>\n",
       "      <td>73.74</td>\n",
       "    </tr>\n",
       "    <tr>\n",
       "      <th>20</th>\n",
       "      <td>76.98</td>\n",
       "    </tr>\n",
       "    <tr>\n",
       "      <th>21</th>\n",
       "      <td>80.94</td>\n",
       "    </tr>\n",
       "    <tr>\n",
       "      <th>22</th>\n",
       "      <td>83.84</td>\n",
       "    </tr>\n",
       "    <tr>\n",
       "      <th>23</th>\n",
       "      <td>86.60</td>\n",
       "    </tr>\n",
       "    <tr>\n",
       "      <th>24</th>\n",
       "      <td>88.84</td>\n",
       "    </tr>\n",
       "    <tr>\n",
       "      <th>25</th>\n",
       "      <td>90.30</td>\n",
       "    </tr>\n",
       "    <tr>\n",
       "      <th>26</th>\n",
       "      <td>92.96</td>\n",
       "    </tr>\n",
       "    <tr>\n",
       "      <th>27</th>\n",
       "      <td>94.08</td>\n",
       "    </tr>\n",
       "    <tr>\n",
       "      <th>28</th>\n",
       "      <td>95.82</td>\n",
       "    </tr>\n",
       "    <tr>\n",
       "      <th>29</th>\n",
       "      <td>96.68</td>\n",
       "    </tr>\n",
       "    <tr>\n",
       "      <th>30</th>\n",
       "      <td>97.56</td>\n",
       "    </tr>\n",
       "    <tr>\n",
       "      <th>31</th>\n",
       "      <td>98.20</td>\n",
       "    </tr>\n",
       "    <tr>\n",
       "      <th>32</th>\n",
       "      <td>98.66</td>\n",
       "    </tr>\n",
       "    <tr>\n",
       "      <th>33</th>\n",
       "      <td>98.92</td>\n",
       "    </tr>\n",
       "    <tr>\n",
       "      <th>34</th>\n",
       "      <td>99.38</td>\n",
       "    </tr>\n",
       "    <tr>\n",
       "      <th>35</th>\n",
       "      <td>99.68</td>\n",
       "    </tr>\n",
       "    <tr>\n",
       "      <th>36</th>\n",
       "      <td>99.78</td>\n",
       "    </tr>\n",
       "    <tr>\n",
       "      <th>37</th>\n",
       "      <td>99.84</td>\n",
       "    </tr>\n",
       "    <tr>\n",
       "      <th>38</th>\n",
       "      <td>99.86</td>\n",
       "    </tr>\n",
       "    <tr>\n",
       "      <th>39</th>\n",
       "      <td>99.92</td>\n",
       "    </tr>\n",
       "    <tr>\n",
       "      <th>40</th>\n",
       "      <td>99.98</td>\n",
       "    </tr>\n",
       "    <tr>\n",
       "      <th>41</th>\n",
       "      <td>99.98</td>\n",
       "    </tr>\n",
       "    <tr>\n",
       "      <th>42</th>\n",
       "      <td>100.00</td>\n",
       "    </tr>\n",
       "    <tr>\n",
       "      <th>43</th>\n",
       "      <td>100.00</td>\n",
       "    </tr>\n",
       "    <tr>\n",
       "      <th>44</th>\n",
       "      <td>100.00</td>\n",
       "    </tr>\n",
       "    <tr>\n",
       "      <th>45</th>\n",
       "      <td>100.00</td>\n",
       "    </tr>\n",
       "    <tr>\n",
       "      <th>46</th>\n",
       "      <td>100.00</td>\n",
       "    </tr>\n",
       "    <tr>\n",
       "      <th>47</th>\n",
       "      <td>100.00</td>\n",
       "    </tr>\n",
       "    <tr>\n",
       "      <th>48</th>\n",
       "      <td>100.00</td>\n",
       "    </tr>\n",
       "    <tr>\n",
       "      <th>49</th>\n",
       "      <td>100.00</td>\n",
       "    </tr>\n",
       "  </tbody>\n",
       "</table>\n",
       "</div>"
      ],
      "text/plain": [
       "    train_accuracy\n",
       "0             0.76\n",
       "1             1.72\n",
       "2             4.16\n",
       "3             6.50\n",
       "4             9.66\n",
       "5            13.22\n",
       "6            16.46\n",
       "7            20.98\n",
       "8            25.02\n",
       "9            29.24\n",
       "10           33.70\n",
       "11           39.48\n",
       "12           44.46\n",
       "13           48.60\n",
       "14           51.84\n",
       "15           57.08\n",
       "16           61.32\n",
       "17           65.20\n",
       "18           69.46\n",
       "19           73.74\n",
       "20           76.98\n",
       "21           80.94\n",
       "22           83.84\n",
       "23           86.60\n",
       "24           88.84\n",
       "25           90.30\n",
       "26           92.96\n",
       "27           94.08\n",
       "28           95.82\n",
       "29           96.68\n",
       "30           97.56\n",
       "31           98.20\n",
       "32           98.66\n",
       "33           98.92\n",
       "34           99.38\n",
       "35           99.68\n",
       "36           99.78\n",
       "37           99.84\n",
       "38           99.86\n",
       "39           99.92\n",
       "40           99.98\n",
       "41           99.98\n",
       "42          100.00\n",
       "43          100.00\n",
       "44          100.00\n",
       "45          100.00\n",
       "46          100.00\n",
       "47          100.00\n",
       "48          100.00\n",
       "49          100.00"
      ]
     },
     "execution_count": 50,
     "metadata": {},
     "output_type": "execute_result"
    }
   ],
   "source": [
    "supervisorModelScores = pd.DataFrame({\"train_accuracy\":train_accuracy})\n",
    "supervisorModelScores"
   ]
  },
  {
   "cell_type": "code",
   "execution_count": 51,
   "id": "e2ba5a3f",
   "metadata": {
    "scrolled": true
   },
   "outputs": [
    {
     "data": {
      "text/html": [
       "<div>\n",
       "<style scoped>\n",
       "    .dataframe tbody tr th:only-of-type {\n",
       "        vertical-align: middle;\n",
       "    }\n",
       "\n",
       "    .dataframe tbody tr th {\n",
       "        vertical-align: top;\n",
       "    }\n",
       "\n",
       "    .dataframe thead th {\n",
       "        text-align: right;\n",
       "    }\n",
       "</style>\n",
       "<table border=\"1\" class=\"dataframe\">\n",
       "  <thead>\n",
       "    <tr style=\"text-align: right;\">\n",
       "      <th></th>\n",
       "      <th>train_accuracy</th>\n",
       "    </tr>\n",
       "  </thead>\n",
       "  <tbody>\n",
       "    <tr>\n",
       "      <th>0</th>\n",
       "      <td>0.76</td>\n",
       "    </tr>\n",
       "    <tr>\n",
       "      <th>2</th>\n",
       "      <td>4.16</td>\n",
       "    </tr>\n",
       "    <tr>\n",
       "      <th>4</th>\n",
       "      <td>9.66</td>\n",
       "    </tr>\n",
       "    <tr>\n",
       "      <th>6</th>\n",
       "      <td>16.46</td>\n",
       "    </tr>\n",
       "    <tr>\n",
       "      <th>8</th>\n",
       "      <td>25.02</td>\n",
       "    </tr>\n",
       "    <tr>\n",
       "      <th>10</th>\n",
       "      <td>33.70</td>\n",
       "    </tr>\n",
       "    <tr>\n",
       "      <th>12</th>\n",
       "      <td>44.46</td>\n",
       "    </tr>\n",
       "    <tr>\n",
       "      <th>14</th>\n",
       "      <td>51.84</td>\n",
       "    </tr>\n",
       "    <tr>\n",
       "      <th>16</th>\n",
       "      <td>61.32</td>\n",
       "    </tr>\n",
       "    <tr>\n",
       "      <th>18</th>\n",
       "      <td>69.46</td>\n",
       "    </tr>\n",
       "    <tr>\n",
       "      <th>20</th>\n",
       "      <td>76.98</td>\n",
       "    </tr>\n",
       "    <tr>\n",
       "      <th>22</th>\n",
       "      <td>83.84</td>\n",
       "    </tr>\n",
       "    <tr>\n",
       "      <th>24</th>\n",
       "      <td>88.84</td>\n",
       "    </tr>\n",
       "    <tr>\n",
       "      <th>26</th>\n",
       "      <td>92.96</td>\n",
       "    </tr>\n",
       "    <tr>\n",
       "      <th>28</th>\n",
       "      <td>95.82</td>\n",
       "    </tr>\n",
       "  </tbody>\n",
       "</table>\n",
       "</div>"
      ],
      "text/plain": [
       "    train_accuracy\n",
       "0             0.76\n",
       "2             4.16\n",
       "4             9.66\n",
       "6            16.46\n",
       "8            25.02\n",
       "10           33.70\n",
       "12           44.46\n",
       "14           51.84\n",
       "16           61.32\n",
       "18           69.46\n",
       "20           76.98\n",
       "22           83.84\n",
       "24           88.84\n",
       "26           92.96\n",
       "28           95.82"
      ]
     },
     "execution_count": 51,
     "metadata": {},
     "output_type": "execute_result"
    }
   ],
   "source": [
    "supervisorModelScores.iloc[:30:2,:]"
   ]
  },
  {
   "cell_type": "code",
   "execution_count": 52,
   "id": "5e4dbfd8",
   "metadata": {},
   "outputs": [],
   "source": [
    "from torch.utils.data import Dataset\n",
    "from torch.utils.data import DataLoader\n",
    "import cv2\n",
    "import os\n",
    "import pandas as pd\n",
    "import torchvision.transforms as transforms\n",
    "import matplotlib.pyplot as plt\n",
    "import numpy as np"
   ]
  },
  {
   "cell_type": "code",
   "execution_count": 53,
   "id": "6f3994a6",
   "metadata": {},
   "outputs": [],
   "source": [
    "import torchvision"
   ]
  },
  {
   "cell_type": "code",
   "execution_count": 56,
   "id": "8af69f04",
   "metadata": {},
   "outputs": [],
   "source": [
    "original_csv = \"data/cifar100_nl_clean.csv\"\n",
    "dir_name = \"dataset\"\n",
    "supervisor_model = model\n",
    "sample_num = 49998"
   ]
  },
  {
   "cell_type": "code",
   "execution_count": 59,
   "id": "ea3db16e",
   "metadata": {},
   "outputs": [],
   "source": [
    "csv_file = pd.read_csv(os.path.join(dir_name, original_csv), header=None)\n",
    "dataset = cifarDataset(csv=original_csv, dir_name=dir_name, transform=transforms.ToTensor())\n",
    "batch_size = 1\n",
    "loader = DataLoader(dataset=dataset, batch_size=batch_size, shuffle=False)\n",
    "\n",
    "device = torch.device(\"cuda\" if torch.cuda.is_available() else \"cpu\")\n",
    "supervisor_model.eval()\n",
    "supervisor_model.to(device)\n",
    "loss_fn = nn.CrossEntropyLoss()\n",
    "\n",
    "file_names = []\n",
    "labels = []\n",
    "proportions = []\n",
    "with torch.no_grad():\n",
    "    for (x,y, image_path) in loader:\n",
    "        x,y = x.to(device), y.to(device)\n",
    "        out = supervisor_model(x)\n",
    "        loss = 1. - loss_fn(out, y)\n",
    "        proportions.append(float(loss))\n",
    "        labels.append(int(y))\n",
    "        file_names.append(image_path[0])\n",
    "\n",
    "# Normalize proportions\n",
    "proportions = (np.array(proportions) - min(proportions)) / max(proportions)\n",
    "proportions = proportions/np.sum(proportions)\n",
    "# Sample from newly created distribution\n",
    "new_data = np.random.choice(file_names, sample_num, p=proportions)\n",
    "final_csv = pd.DataFrame(columns=[0,1])\n",
    "for i in new_data:\n",
    "    final_csv = pd.concat([final_csv,csv_file[csv_file[0] == i]], ignore_index=True)\n",
    "final_csv.to_csv(\"dataset/data/cifar100_weighted.csv\",index=False)"
   ]
  },
  {
   "cell_type": "code",
   "execution_count": 60,
   "id": "9e9c84da",
   "metadata": {},
   "outputs": [],
   "source": [
    "weighted_data = pd.read_csv(\"dataset/data/cifar100_weighted.csv\")"
   ]
  },
  {
   "cell_type": "code",
   "execution_count": 66,
   "id": "43e06e50",
   "metadata": {},
   "outputs": [],
   "source": [
    "import torch\n",
    "import torch.optim as optim\n",
    "import torchvision.transforms.functional as FT\n",
    "from tqdm import tqdm\n",
    "from torch.utils.data import DataLoader\n",
    "from model import ResNet18\n",
    "import os\n",
    "import torch.nn as nn\n",
    "import torchvision.transforms as transforms\n",
    "import matplotlib.pyplot as plt\n",
    "\n",
    "# Hyperparameters\n",
    "lr = 2e-5\n",
    "batch_size = 1000\n",
    "weight_decay = 1e-4\n",
    "epochs = 30\n",
    "transform = transforms.ToTensor()\n",
    "train_accuracy = []\n",
    "test_accuracy = []\n",
    "device = torch.device(\"cuda\" if torch.cuda.is_available() else \"cpu\")\n",
    "\n",
    "def train_fn(train_loader, model, optimizer, loss_fn):\n",
    "    model.train()\n",
    "    loop = tqdm(train_loader, leave=True)\n",
    "\n",
    "    correct = 0\n",
    "    total = 0\n",
    "\n",
    "    for batch_idx, (x, y) in enumerate(loop):\n",
    "        x,y = x.to(device), y.to(device)\n",
    "        out = model(x)\n",
    "        loss = loss_fn(out, y)\n",
    "        optimizer.zero_grad()\n",
    "        loss.backward()\n",
    "        optimizer.step()\n",
    "\n",
    "        correct += int(sum(out.argmax(axis=1) == y))\n",
    "        total += y.size(0)\n",
    "\n",
    "        # Update the progress bar\n",
    "        loop.set_postfix(loss=loss.item())\n",
    "\n",
    "    accu = 100. * (correct / total)\n",
    "    train_accuracy.append(accu)\n",
    "\n",
    "\n",
    "def test_fn(test_loader, model):\n",
    "    model.eval()\n",
    "    loop = tqdm(test_loader)\n",
    "\n",
    "    correct = 0\n",
    "    total = 0\n",
    "\n",
    "    with torch.no_grad():\n",
    "        for batch_idx, (x, y) in enumerate(loop):\n",
    "            x,y = x.to(device), y.to(device)\n",
    "            out = model(x)\n",
    "            correct += int(sum(out.argmax(axis=1) == y))\n",
    "            total += y.size(0)\n",
    "\n",
    "    accu = 100. * (correct / total)\n",
    "    print(accu)\n",
    "    test_accuracy.append(accu)\n",
    "\n",
    "\n",
    "def main():\n",
    "    torch.cuda.empty_cache()\n",
    "    model = ResNet18()\n",
    "    model.to(device)\n",
    "    optimizer = optim.Adam(model.parameters(), lr=lr, weight_decay=weight_decay)\n",
    "    loss_fn = nn.CrossEntropyLoss()\n",
    "\n",
    "    dir_name = \"dataset\"\n",
    "    csv = \"data/cifar100_weighted.csv\"\n",
    "    csv_test = \"data/cifar100_nl_test.csv\"\n",
    "    dataset = cifarDataset(csv=csv, dir_name=dir_name, transform=transform)\n",
    "    test_set = cifarDataset(csv=csv_test, dir_name=dir_name,\n",
    "                            transform=transform)\n",
    "    train_set, val_set = torch.utils.data.random_split(dataset, [40000, 9998])\n",
    "    train_loader = DataLoader(dataset=train_set,\n",
    "                              batch_size=batch_size,\n",
    "                              shuffle=True,\n",
    "                              drop_last=False)\n",
    "    val_loader = DataLoader(dataset=val_set,\n",
    "                            batch_size=batch_size,\n",
    "                            shuffle=True,\n",
    "                            drop_last=False)\n",
    "    test_loader = DataLoader(dataset=test_set,\n",
    "                             batch_size=batch_size,\n",
    "                             shuffle=True)\n",
    "\n",
    "    for epoch in range(epochs):\n",
    "        train_fn(train_loader, model, optimizer, loss_fn)\n",
    "        test_fn(test_loader, model)\n",
    "    torch.save(model.state_dict(), \"modelStates/studentModel.pth\")"
   ]
  },
  {
   "cell_type": "code",
   "execution_count": 67,
   "id": "47db2142",
   "metadata": {
    "scrolled": true
   },
   "outputs": [
    {
     "name": "stderr",
     "output_type": "stream",
     "text": [
      "100%|██████████| 40/40 [00:42<00:00,  1.07s/it, loss=4.29]\n",
      "100%|██████████| 10/10 [00:10<00:00,  1.06s/it]\n"
     ]
    },
    {
     "name": "stdout",
     "output_type": "stream",
     "text": [
      "2.850570114022805\n"
     ]
    },
    {
     "name": "stderr",
     "output_type": "stream",
     "text": [
      "100%|██████████| 40/40 [00:24<00:00,  1.65it/s, loss=3.99]\n",
      "100%|██████████| 10/10 [00:02<00:00,  3.52it/s]\n"
     ]
    },
    {
     "name": "stdout",
     "output_type": "stream",
     "text": [
      "11.802360472094419\n"
     ]
    },
    {
     "name": "stderr",
     "output_type": "stream",
     "text": [
      "100%|██████████| 40/40 [00:23<00:00,  1.70it/s, loss=3.81]\n",
      "100%|██████████| 10/10 [00:02<00:00,  3.53it/s]\n"
     ]
    },
    {
     "name": "stdout",
     "output_type": "stream",
     "text": [
      "15.433086617323466\n"
     ]
    },
    {
     "name": "stderr",
     "output_type": "stream",
     "text": [
      "100%|██████████| 40/40 [00:23<00:00,  1.72it/s, loss=3.51]\n",
      "100%|██████████| 10/10 [00:02<00:00,  3.63it/s]\n"
     ]
    },
    {
     "name": "stdout",
     "output_type": "stream",
     "text": [
      "17.283456691338266\n"
     ]
    },
    {
     "name": "stderr",
     "output_type": "stream",
     "text": [
      "100%|██████████| 40/40 [00:23<00:00,  1.71it/s, loss=3.48]\n",
      "100%|██████████| 10/10 [00:02<00:00,  3.60it/s]\n"
     ]
    },
    {
     "name": "stdout",
     "output_type": "stream",
     "text": [
      "18.50370074014803\n"
     ]
    },
    {
     "name": "stderr",
     "output_type": "stream",
     "text": [
      "100%|██████████| 40/40 [00:23<00:00,  1.69it/s, loss=3.22]\n",
      "100%|██████████| 10/10 [00:02<00:00,  3.62it/s]\n"
     ]
    },
    {
     "name": "stdout",
     "output_type": "stream",
     "text": [
      "19.76395279055811\n"
     ]
    },
    {
     "name": "stderr",
     "output_type": "stream",
     "text": [
      "100%|██████████| 40/40 [00:23<00:00,  1.69it/s, loss=3.05]\n",
      "100%|██████████| 10/10 [00:02<00:00,  3.55it/s]\n"
     ]
    },
    {
     "name": "stdout",
     "output_type": "stream",
     "text": [
      "21.014202840568114\n"
     ]
    },
    {
     "name": "stderr",
     "output_type": "stream",
     "text": [
      "100%|██████████| 40/40 [00:23<00:00,  1.71it/s, loss=2.78]\n",
      "100%|██████████| 10/10 [00:02<00:00,  3.54it/s]\n"
     ]
    },
    {
     "name": "stdout",
     "output_type": "stream",
     "text": [
      "21.344268853770753\n"
     ]
    },
    {
     "name": "stderr",
     "output_type": "stream",
     "text": [
      "100%|██████████| 40/40 [00:23<00:00,  1.70it/s, loss=2.48]\n",
      "100%|██████████| 10/10 [00:02<00:00,  3.61it/s]\n"
     ]
    },
    {
     "name": "stdout",
     "output_type": "stream",
     "text": [
      "21.094218843768754\n"
     ]
    },
    {
     "name": "stderr",
     "output_type": "stream",
     "text": [
      "100%|██████████| 40/40 [00:23<00:00,  1.71it/s, loss=2.26]\n",
      "100%|██████████| 10/10 [00:02<00:00,  3.63it/s]\n"
     ]
    },
    {
     "name": "stdout",
     "output_type": "stream",
     "text": [
      "20.824164832966595\n"
     ]
    },
    {
     "name": "stderr",
     "output_type": "stream",
     "text": [
      "100%|██████████| 40/40 [00:23<00:00,  1.71it/s, loss=2]   \n",
      "100%|██████████| 10/10 [00:02<00:00,  3.51it/s]\n"
     ]
    },
    {
     "name": "stdout",
     "output_type": "stream",
     "text": [
      "21.144228845769153\n"
     ]
    },
    {
     "name": "stderr",
     "output_type": "stream",
     "text": [
      "100%|██████████| 40/40 [00:23<00:00,  1.71it/s, loss=1.8] \n",
      "100%|██████████| 10/10 [00:02<00:00,  3.68it/s]\n"
     ]
    },
    {
     "name": "stdout",
     "output_type": "stream",
     "text": [
      "20.60412082416483\n"
     ]
    },
    {
     "name": "stderr",
     "output_type": "stream",
     "text": [
      "100%|██████████| 40/40 [00:23<00:00,  1.73it/s, loss=1.5] \n",
      "100%|██████████| 10/10 [00:02<00:00,  3.72it/s]\n"
     ]
    },
    {
     "name": "stdout",
     "output_type": "stream",
     "text": [
      "20.384076815363073\n"
     ]
    },
    {
     "name": "stderr",
     "output_type": "stream",
     "text": [
      "100%|██████████| 40/40 [00:23<00:00,  1.70it/s, loss=1.27]\n",
      "100%|██████████| 10/10 [00:02<00:00,  3.62it/s]\n"
     ]
    },
    {
     "name": "stdout",
     "output_type": "stream",
     "text": [
      "19.83396679335867\n"
     ]
    },
    {
     "name": "stderr",
     "output_type": "stream",
     "text": [
      "100%|██████████| 40/40 [00:23<00:00,  1.73it/s, loss=1.16]\n",
      "100%|██████████| 10/10 [00:02<00:00,  3.63it/s]\n"
     ]
    },
    {
     "name": "stdout",
     "output_type": "stream",
     "text": [
      "19.29385877175435\n"
     ]
    },
    {
     "name": "stderr",
     "output_type": "stream",
     "text": [
      "100%|██████████| 40/40 [00:23<00:00,  1.73it/s, loss=0.922]\n",
      "100%|██████████| 10/10 [00:02<00:00,  3.66it/s]\n"
     ]
    },
    {
     "name": "stdout",
     "output_type": "stream",
     "text": [
      "18.96379275855171\n"
     ]
    },
    {
     "name": "stderr",
     "output_type": "stream",
     "text": [
      "100%|██████████| 40/40 [00:23<00:00,  1.72it/s, loss=0.766]\n",
      "100%|██████████| 10/10 [00:02<00:00,  3.68it/s]\n"
     ]
    },
    {
     "name": "stdout",
     "output_type": "stream",
     "text": [
      "19.243848769753953\n"
     ]
    },
    {
     "name": "stderr",
     "output_type": "stream",
     "text": [
      "100%|██████████| 40/40 [00:23<00:00,  1.72it/s, loss=0.652]\n",
      "100%|██████████| 10/10 [00:02<00:00,  3.64it/s]\n"
     ]
    },
    {
     "name": "stdout",
     "output_type": "stream",
     "text": [
      "18.80376075215043\n"
     ]
    },
    {
     "name": "stderr",
     "output_type": "stream",
     "text": [
      "100%|██████████| 40/40 [00:23<00:00,  1.72it/s, loss=0.505]\n",
      "100%|██████████| 10/10 [00:02<00:00,  3.63it/s]\n"
     ]
    },
    {
     "name": "stdout",
     "output_type": "stream",
     "text": [
      "18.333666733346668\n"
     ]
    },
    {
     "name": "stderr",
     "output_type": "stream",
     "text": [
      "100%|██████████| 40/40 [00:23<00:00,  1.74it/s, loss=0.45] \n",
      "100%|██████████| 10/10 [00:02<00:00,  3.53it/s]\n"
     ]
    },
    {
     "name": "stdout",
     "output_type": "stream",
     "text": [
      "18.27365473094619\n"
     ]
    },
    {
     "name": "stderr",
     "output_type": "stream",
     "text": [
      "100%|██████████| 40/40 [00:23<00:00,  1.73it/s, loss=0.37] \n",
      "100%|██████████| 10/10 [00:02<00:00,  3.64it/s]\n"
     ]
    },
    {
     "name": "stdout",
     "output_type": "stream",
     "text": [
      "18.12362472494499\n"
     ]
    },
    {
     "name": "stderr",
     "output_type": "stream",
     "text": [
      "100%|██████████| 40/40 [00:23<00:00,  1.72it/s, loss=0.316]\n",
      "100%|██████████| 10/10 [00:02<00:00,  3.65it/s]\n"
     ]
    },
    {
     "name": "stdout",
     "output_type": "stream",
     "text": [
      "17.89357871574315\n"
     ]
    },
    {
     "name": "stderr",
     "output_type": "stream",
     "text": [
      "100%|██████████| 40/40 [00:23<00:00,  1.71it/s, loss=0.253]\n",
      "100%|██████████| 10/10 [00:02<00:00,  3.66it/s]\n"
     ]
    },
    {
     "name": "stdout",
     "output_type": "stream",
     "text": [
      "17.663532706541307\n"
     ]
    },
    {
     "name": "stderr",
     "output_type": "stream",
     "text": [
      "100%|██████████| 40/40 [00:23<00:00,  1.72it/s, loss=0.213]\n",
      "100%|██████████| 10/10 [00:02<00:00,  3.72it/s]\n"
     ]
    },
    {
     "name": "stdout",
     "output_type": "stream",
     "text": [
      "17.16343268653731\n"
     ]
    },
    {
     "name": "stderr",
     "output_type": "stream",
     "text": [
      "100%|██████████| 40/40 [00:23<00:00,  1.72it/s, loss=0.175]\n",
      "100%|██████████| 10/10 [00:02<00:00,  3.65it/s]\n"
     ]
    },
    {
     "name": "stdout",
     "output_type": "stream",
     "text": [
      "17.353470694138828\n"
     ]
    },
    {
     "name": "stderr",
     "output_type": "stream",
     "text": [
      "100%|██████████| 40/40 [00:23<00:00,  1.72it/s, loss=0.155]\n",
      "100%|██████████| 10/10 [00:02<00:00,  3.70it/s]\n"
     ]
    },
    {
     "name": "stdout",
     "output_type": "stream",
     "text": [
      "17.59351870374075\n"
     ]
    },
    {
     "name": "stderr",
     "output_type": "stream",
     "text": [
      "100%|██████████| 40/40 [00:23<00:00,  1.72it/s, loss=0.134]\n",
      "100%|██████████| 10/10 [00:02<00:00,  3.70it/s]\n"
     ]
    },
    {
     "name": "stdout",
     "output_type": "stream",
     "text": [
      "17.233446689337867\n"
     ]
    },
    {
     "name": "stderr",
     "output_type": "stream",
     "text": [
      "100%|██████████| 40/40 [00:23<00:00,  1.71it/s, loss=0.119]\n",
      "100%|██████████| 10/10 [00:02<00:00,  3.70it/s]\n"
     ]
    },
    {
     "name": "stdout",
     "output_type": "stream",
     "text": [
      "17.183436687337466\n"
     ]
    },
    {
     "name": "stderr",
     "output_type": "stream",
     "text": [
      "100%|██████████| 40/40 [00:23<00:00,  1.71it/s, loss=0.0978]\n",
      "100%|██████████| 10/10 [00:02<00:00,  3.67it/s]\n"
     ]
    },
    {
     "name": "stdout",
     "output_type": "stream",
     "text": [
      "17.143428685737145\n"
     ]
    },
    {
     "name": "stderr",
     "output_type": "stream",
     "text": [
      "100%|██████████| 40/40 [00:23<00:00,  1.72it/s, loss=0.0809]\n",
      "100%|██████████| 10/10 [00:02<00:00,  3.59it/s]"
     ]
    },
    {
     "name": "stdout",
     "output_type": "stream",
     "text": [
      "16.983396679335865\n"
     ]
    },
    {
     "name": "stderr",
     "output_type": "stream",
     "text": [
      "\n"
     ]
    }
   ],
   "source": [
    "main()"
   ]
  },
  {
   "cell_type": "code",
   "execution_count": 68,
   "id": "d3681484",
   "metadata": {
    "scrolled": true
   },
   "outputs": [
    {
     "data": {
      "image/png": "[encoded data removed]",
      "text/plain": [
       "<Figure size 432x288 with 1 Axes>"
      ]
     },
     "metadata": {
      "needs_background": "light"
     },
     "output_type": "display_data"
    }
   ],
   "source": [
    "plt.plot(train_accuracy, '-o')\n",
    "plt.plot(test_accuracy, '-o')\n",
    "plt.legend(['Train','Test'])\n",
    "plt.xlabel('epoch')\n",
    "plt.ylabel('accuracy')\n",
    "plt.title('studentModel: Train vs Test Accuracy')\n",
    "plt.show()"
   ]
  },
  {
   "cell_type": "code",
   "execution_count": 69,
   "id": "eb3c8398",
   "metadata": {},
   "outputs": [
    {
     "data": {
      "text/html": [
       "<div>\n",
       "<style scoped>\n",
       "    .dataframe tbody tr th:only-of-type {\n",
       "        vertical-align: middle;\n",
       "    }\n",
       "\n",
       "    .dataframe tbody tr th {\n",
       "        vertical-align: top;\n",
       "    }\n",
       "\n",
       "    .dataframe thead th {\n",
       "        text-align: right;\n",
       "    }\n",
       "</style>\n",
       "<table border=\"1\" class=\"dataframe\">\n",
       "  <thead>\n",
       "    <tr style=\"text-align: right;\">\n",
       "      <th></th>\n",
       "      <th>train_accuracy</th>\n",
       "      <th>test_accuracy</th>\n",
       "    </tr>\n",
       "  </thead>\n",
       "  <tbody>\n",
       "    <tr>\n",
       "      <th>0</th>\n",
       "      <td>3.9325</td>\n",
       "      <td>2.850570</td>\n",
       "    </tr>\n",
       "    <tr>\n",
       "      <th>1</th>\n",
       "      <td>11.6875</td>\n",
       "      <td>11.802360</td>\n",
       "    </tr>\n",
       "    <tr>\n",
       "      <th>2</th>\n",
       "      <td>16.8525</td>\n",
       "      <td>15.433087</td>\n",
       "    </tr>\n",
       "    <tr>\n",
       "      <th>3</th>\n",
       "      <td>21.0475</td>\n",
       "      <td>17.283457</td>\n",
       "    </tr>\n",
       "    <tr>\n",
       "      <th>4</th>\n",
       "      <td>25.9300</td>\n",
       "      <td>18.503701</td>\n",
       "    </tr>\n",
       "    <tr>\n",
       "      <th>5</th>\n",
       "      <td>31.2900</td>\n",
       "      <td>19.763953</td>\n",
       "    </tr>\n",
       "    <tr>\n",
       "      <th>6</th>\n",
       "      <td>37.6725</td>\n",
       "      <td>21.014203</td>\n",
       "    </tr>\n",
       "    <tr>\n",
       "      <th>7</th>\n",
       "      <td>44.6275</td>\n",
       "      <td>21.344269</td>\n",
       "    </tr>\n",
       "    <tr>\n",
       "      <th>8</th>\n",
       "      <td>52.4775</td>\n",
       "      <td>21.094219</td>\n",
       "    </tr>\n",
       "    <tr>\n",
       "      <th>9</th>\n",
       "      <td>59.8300</td>\n",
       "      <td>20.824165</td>\n",
       "    </tr>\n",
       "    <tr>\n",
       "      <th>10</th>\n",
       "      <td>66.9300</td>\n",
       "      <td>21.144229</td>\n",
       "    </tr>\n",
       "    <tr>\n",
       "      <th>11</th>\n",
       "      <td>73.4600</td>\n",
       "      <td>20.604121</td>\n",
       "    </tr>\n",
       "    <tr>\n",
       "      <th>12</th>\n",
       "      <td>79.3450</td>\n",
       "      <td>20.384077</td>\n",
       "    </tr>\n",
       "    <tr>\n",
       "      <th>13</th>\n",
       "      <td>83.8175</td>\n",
       "      <td>19.833967</td>\n",
       "    </tr>\n",
       "    <tr>\n",
       "      <th>14</th>\n",
       "      <td>87.8075</td>\n",
       "      <td>19.293859</td>\n",
       "    </tr>\n",
       "    <tr>\n",
       "      <th>15</th>\n",
       "      <td>90.8550</td>\n",
       "      <td>18.963793</td>\n",
       "    </tr>\n",
       "    <tr>\n",
       "      <th>16</th>\n",
       "      <td>93.4075</td>\n",
       "      <td>19.243849</td>\n",
       "    </tr>\n",
       "    <tr>\n",
       "      <th>17</th>\n",
       "      <td>95.4075</td>\n",
       "      <td>18.803761</td>\n",
       "    </tr>\n",
       "    <tr>\n",
       "      <th>18</th>\n",
       "      <td>96.9100</td>\n",
       "      <td>18.333667</td>\n",
       "    </tr>\n",
       "    <tr>\n",
       "      <th>19</th>\n",
       "      <td>97.9875</td>\n",
       "      <td>18.273655</td>\n",
       "    </tr>\n",
       "    <tr>\n",
       "      <th>20</th>\n",
       "      <td>98.7450</td>\n",
       "      <td>18.123625</td>\n",
       "    </tr>\n",
       "    <tr>\n",
       "      <th>21</th>\n",
       "      <td>99.3075</td>\n",
       "      <td>17.893579</td>\n",
       "    </tr>\n",
       "    <tr>\n",
       "      <th>22</th>\n",
       "      <td>99.6025</td>\n",
       "      <td>17.663533</td>\n",
       "    </tr>\n",
       "    <tr>\n",
       "      <th>23</th>\n",
       "      <td>99.8075</td>\n",
       "      <td>17.163433</td>\n",
       "    </tr>\n",
       "    <tr>\n",
       "      <th>24</th>\n",
       "      <td>99.9050</td>\n",
       "      <td>17.353471</td>\n",
       "    </tr>\n",
       "    <tr>\n",
       "      <th>25</th>\n",
       "      <td>99.9600</td>\n",
       "      <td>17.593519</td>\n",
       "    </tr>\n",
       "    <tr>\n",
       "      <th>26</th>\n",
       "      <td>99.9750</td>\n",
       "      <td>17.233447</td>\n",
       "    </tr>\n",
       "    <tr>\n",
       "      <th>27</th>\n",
       "      <td>99.9750</td>\n",
       "      <td>17.183437</td>\n",
       "    </tr>\n",
       "    <tr>\n",
       "      <th>28</th>\n",
       "      <td>99.9825</td>\n",
       "      <td>17.143429</td>\n",
       "    </tr>\n",
       "    <tr>\n",
       "      <th>29</th>\n",
       "      <td>99.9775</td>\n",
       "      <td>16.983397</td>\n",
       "    </tr>\n",
       "  </tbody>\n",
       "</table>\n",
       "</div>"
      ],
      "text/plain": [
       "    train_accuracy  test_accuracy\n",
       "0           3.9325       2.850570\n",
       "1          11.6875      11.802360\n",
       "2          16.8525      15.433087\n",
       "3          21.0475      17.283457\n",
       "4          25.9300      18.503701\n",
       "5          31.2900      19.763953\n",
       "6          37.6725      21.014203\n",
       "7          44.6275      21.344269\n",
       "8          52.4775      21.094219\n",
       "9          59.8300      20.824165\n",
       "10         66.9300      21.144229\n",
       "11         73.4600      20.604121\n",
       "12         79.3450      20.384077\n",
       "13         83.8175      19.833967\n",
       "14         87.8075      19.293859\n",
       "15         90.8550      18.963793\n",
       "16         93.4075      19.243849\n",
       "17         95.4075      18.803761\n",
       "18         96.9100      18.333667\n",
       "19         97.9875      18.273655\n",
       "20         98.7450      18.123625\n",
       "21         99.3075      17.893579\n",
       "22         99.6025      17.663533\n",
       "23         99.8075      17.163433\n",
       "24         99.9050      17.353471\n",
       "25         99.9600      17.593519\n",
       "26         99.9750      17.233447\n",
       "27         99.9750      17.183437\n",
       "28         99.9825      17.143429\n",
       "29         99.9775      16.983397"
      ]
     },
     "execution_count": 69,
     "metadata": {},
     "output_type": "execute_result"
    }
   ],
   "source": [
    "studentModelScores = pd.DataFrame({\"train_accuracy\":train_accuracy, \"test_accuracy\":test_accuracy})\n",
    "studentModelScores"
   ]
  },
  {
   "cell_type": "code",
   "execution_count": 71,
   "id": "9c8b85d9",
   "metadata": {},
   "outputs": [
    {
     "data": {
      "text/html": [
       "<div>\n",
       "<style scoped>\n",
       "    .dataframe tbody tr th:only-of-type {\n",
       "        vertical-align: middle;\n",
       "    }\n",
       "\n",
       "    .dataframe tbody tr th {\n",
       "        vertical-align: top;\n",
       "    }\n",
       "\n",
       "    .dataframe thead th {\n",
       "        text-align: right;\n",
       "    }\n",
       "</style>\n",
       "<table border=\"1\" class=\"dataframe\">\n",
       "  <thead>\n",
       "    <tr style=\"text-align: right;\">\n",
       "      <th></th>\n",
       "      <th>train_accuracy</th>\n",
       "      <th>test_accuracy</th>\n",
       "    </tr>\n",
       "  </thead>\n",
       "  <tbody>\n",
       "    <tr>\n",
       "      <th>0</th>\n",
       "      <td>3.9325</td>\n",
       "      <td>2.850570</td>\n",
       "    </tr>\n",
       "    <tr>\n",
       "      <th>2</th>\n",
       "      <td>16.8525</td>\n",
       "      <td>15.433087</td>\n",
       "    </tr>\n",
       "    <tr>\n",
       "      <th>4</th>\n",
       "      <td>25.9300</td>\n",
       "      <td>18.503701</td>\n",
       "    </tr>\n",
       "    <tr>\n",
       "      <th>6</th>\n",
       "      <td>37.6725</td>\n",
       "      <td>21.014203</td>\n",
       "    </tr>\n",
       "    <tr>\n",
       "      <th>8</th>\n",
       "      <td>52.4775</td>\n",
       "      <td>21.094219</td>\n",
       "    </tr>\n",
       "    <tr>\n",
       "      <th>10</th>\n",
       "      <td>66.9300</td>\n",
       "      <td>21.144229</td>\n",
       "    </tr>\n",
       "    <tr>\n",
       "      <th>12</th>\n",
       "      <td>79.3450</td>\n",
       "      <td>20.384077</td>\n",
       "    </tr>\n",
       "    <tr>\n",
       "      <th>14</th>\n",
       "      <td>87.8075</td>\n",
       "      <td>19.293859</td>\n",
       "    </tr>\n",
       "    <tr>\n",
       "      <th>16</th>\n",
       "      <td>93.4075</td>\n",
       "      <td>19.243849</td>\n",
       "    </tr>\n",
       "    <tr>\n",
       "      <th>18</th>\n",
       "      <td>96.9100</td>\n",
       "      <td>18.333667</td>\n",
       "    </tr>\n",
       "    <tr>\n",
       "      <th>20</th>\n",
       "      <td>98.7450</td>\n",
       "      <td>18.123625</td>\n",
       "    </tr>\n",
       "    <tr>\n",
       "      <th>22</th>\n",
       "      <td>99.6025</td>\n",
       "      <td>17.663533</td>\n",
       "    </tr>\n",
       "    <tr>\n",
       "      <th>24</th>\n",
       "      <td>99.9050</td>\n",
       "      <td>17.353471</td>\n",
       "    </tr>\n",
       "    <tr>\n",
       "      <th>26</th>\n",
       "      <td>99.9750</td>\n",
       "      <td>17.233447</td>\n",
       "    </tr>\n",
       "    <tr>\n",
       "      <th>28</th>\n",
       "      <td>99.9825</td>\n",
       "      <td>17.143429</td>\n",
       "    </tr>\n",
       "  </tbody>\n",
       "</table>\n",
       "</div>"
      ],
      "text/plain": [
       "    train_accuracy  test_accuracy\n",
       "0           3.9325       2.850570\n",
       "2          16.8525      15.433087\n",
       "4          25.9300      18.503701\n",
       "6          37.6725      21.014203\n",
       "8          52.4775      21.094219\n",
       "10         66.9300      21.144229\n",
       "12         79.3450      20.384077\n",
       "14         87.8075      19.293859\n",
       "16         93.4075      19.243849\n",
       "18         96.9100      18.333667\n",
       "20         98.7450      18.123625\n",
       "22         99.6025      17.663533\n",
       "24         99.9050      17.353471\n",
       "26         99.9750      17.233447\n",
       "28         99.9825      17.143429"
      ]
     },
     "execution_count": 71,
     "metadata": {},
     "output_type": "execute_result"
    }
   ],
   "source": [
    "studentModelScores.iloc[::2,:]"
   ]
  },
  {
   "cell_type": "code",
   "execution_count": 72,
   "id": "6da7e788",
   "metadata": {},
   "outputs": [
    {
     "data": {
      "text/plain": [
       "17.970927518837104"
      ]
     },
     "execution_count": 72,
     "metadata": {},
     "output_type": "execute_result"
    }
   ],
   "source": [
    "studentModelScores[\"test_accuracy\"].mean()"
   ]
  },
  {
   "cell_type": "code",
   "execution_count": 74,
   "id": "01ec5ee1",
   "metadata": {},
   "outputs": [
    {
     "data": {
      "text/plain": [
       "21.344268853770753"
      ]
     },
     "execution_count": 74,
     "metadata": {},
     "output_type": "execute_result"
    }
   ],
   "source": [
    "studentModelScores[\"test_accuracy\"].max()"
   ]
  },
  {
   "cell_type": "code",
   "execution_count": null,
   "id": "2be04235",
   "metadata": {},
   "outputs": [],
   "source": []
  }
 ],
 "metadata": {
  "kernelspec": {
   "display_name": "Python 3 (clean)",
   "language": "python",
   "name": "python3_clean"
  },
  "language_info": {
   "codemirror_mode": {
    "name": "ipython",
    "version": 3
   },
   "file_extension": ".py",
   "mimetype": "text/x-python",
   "name": "python",
   "nbconvert_exporter": "python",
   "pygments_lexer": "ipython3",
   "version": "3.9.5"
  }
 },
 "nbformat": 4,
 "nbformat_minor": 5
}
